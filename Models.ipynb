{
 "metadata": {
  "language_info": {
   "codemirror_mode": {
    "name": "ipython",
    "version": 3
   },
   "file_extension": ".py",
   "mimetype": "text/x-python",
   "name": "python",
   "nbconvert_exporter": "python",
   "pygments_lexer": "ipython3",
   "version": "3.8.3-final"
  },
  "orig_nbformat": 2,
  "kernelspec": {
   "name": "python3",
   "display_name": "Python 3.8.3 64-bit",
   "metadata": {
    "interpreter": {
     "hash": "2db524e06e9f5f4ffedc911c917cb75e12dbc923643829bf417064a77eb14d37"
    }
   }
  }
 },
 "nbformat": 4,
 "nbformat_minor": 2,
 "cells": [
  {
   "cell_type": "code",
   "execution_count": null,
   "metadata": {},
   "outputs": [],
   "source": [
    "import pandas as pd\n",
    "import numpy as np\n",
    "from sklearn import model_selection, metrics\n",
    "from sklearn.ensemble import RandomForestClassifier\n",
    "from sklearn.multiclass import OneVsRestClassifier\n",
    "import matplotlib.pyplot as plt\n",
    "import seaborn as sns\n",
    "\n",
    "pd.set_option('display.max_columns', 500)\n",
    "\n",
    "cl_dict = {\n",
    "    0: 'Critical condition',\n",
    "    1: 'Deceased',\n",
    "    2: 'Hospitalized',\n",
    "    3: 'Recovered',\n",
    "    4: 'Recovered (hospitalized)'\n",
    "}\n",
    "\n",
    "def print_full(x):\n",
    "    try:\n",
    "        v = len(x)\n",
    "    except:\n",
    "        v = 1000000\n",
    "    pd.set_option('display.max_rows', v)\n",
    "    print(x)\n",
    "    pd.reset_option('display.max_rows')"
   ]
  },
  {
   "cell_type": "code",
   "execution_count": 3,
   "metadata": {},
   "outputs": [],
   "source": [
    "df = pd.read_pickle('./processed-data.pkl')\n",
    "\n",
    "X = df.drop(['outcome'], axis=1).values\n",
    "y = df['outcome'].values\n",
    "\n",
    "X_train, X_test, y_train, y_test = model_selection.train_test_split(X, y, stratify=y, test_size=0.1, random_state=0)"
   ]
  },
  {
   "cell_type": "code",
   "execution_count": null,
   "metadata": {},
   "outputs": [],
   "source": [
    "rf = RandomForestClassifier(n_estimators=170, max_depth=int(2.038281164266072))\n",
    "rf_score = model_selection.cross_val_score(rf, X, y, cv=8, scoring='accuracy')\n",
    "\n",
    "print('RandomForestClassifier:', rf_score.mean(), rf_score.std())\n",
    "\n",
    "# n_estimators=170, max_depth=int(2.038281164266072), 0.662, negli s.d. quite quick"
   ]
  },
  {
   "cell_type": "code",
   "execution_count": null,
   "metadata": {},
   "outputs": [],
   "source": [
    "clf = RandomForestClassifier(n_estimators=170, max_depth=int(2.038281164266072))\n",
    "clf.fit(X_train, y_train)"
   ]
  },
  {
   "cell_type": "code",
   "execution_count": null,
   "metadata": {},
   "outputs": [],
   "source": [
    "def plot_multiclass_roc(clf, X_test, y_test, n_classes, figsize=(17, 6)):\n",
    "    y_score = clf.predict_proba(X_test)\n",
    "\n",
    "    # structures\n",
    "    fpr = dict()\n",
    "    tpr = dict()\n",
    "    roc_auc = dict()\n",
    "\n",
    "    # calculate dummies once\n",
    "    y_test_dummies = pd.get_dummies(y_test, drop_first=False).values\n",
    "    for i in range(n_classes):\n",
    "        fpr[i], tpr[i], _ = metrics.roc_curve(y_test_dummies[:, i], y_score[:, i])\n",
    "        roc_auc[i] = metrics.auc(fpr[i], tpr[i])\n",
    "\n",
    "    # roc for each class\n",
    "    fig, ax = plt.subplots(figsize=figsize)\n",
    "    ax.plot([0, 1], [0, 1], 'k--')\n",
    "    ax.set_xlim([0.0, 1.0])\n",
    "    ax.set_ylim([0.0, 1.05])\n",
    "    ax.set_xlabel('False Positive Rate')\n",
    "    ax.set_ylabel('True Positive Rate')\n",
    "    ax.set_title('RandomForest ROC')\n",
    "    for i in range(n_classes):\n",
    "        ax.plot(fpr[i], tpr[i], label='ROC curve (area = %0.2f) for %s' % (roc_auc[i], cl_dict[i]))\n",
    "    ax.legend(loc=\"best\")\n",
    "    ax.grid(alpha=.4)\n",
    "    sns.despine()\n",
    "    plt.show()\n",
    "\n",
    "plot_multiclass_roc(clf, X_test, y_test, 5)"
   ]
  },
  {
   "cell_type": "code",
   "execution_count": 4,
   "metadata": {},
   "outputs": [
    {
     "output_type": "stream",
     "name": "stdout",
     "text": [
      "XGBClassifier: 0.610825385650932 0.07351635905078435\n"
     ]
    }
   ],
   "source": [
    "import xgboost as xgb\n",
    "\n",
    "xgb_clf = xgb.XGBClassifier(\n",
    "    gamma=0.0642050514904769,\n",
    "    learning_rate=0.8997456965067644,\n",
    "    max_depth=6,\n",
    "    min_child_weight=20,\n",
    "    n_estimators=478,\n",
    "    n_jobs=4,\n",
    "    objective=\"multi:softprob\",\n",
    "    reg_alpha=0.7141048442066745,\n",
    "    reg_lambda=0.48953584540314277,\n",
    "    silent=True,\n",
    "    use_label_encoder=False,\n",
    "    subsample=0.6305093851211034,\n",
    "    verbosity=0,\n",
    "    tree_method=\"hist\",\n",
    ")\n",
    "\n",
    "xgb_score = model_selection.cross_val_score(xgb_clf, X, y, cv=5, scoring='accuracy')\n",
    "print('XGBClassifier:', xgb_score.mean(), xgb_score.std())"
   ]
  },
  {
   "cell_type": "code",
   "execution_count": null,
   "metadata": {},
   "outputs": [],
   "source": []
  }
 ]
}